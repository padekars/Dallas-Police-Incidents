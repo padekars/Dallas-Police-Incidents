{
 "cells": [
  {
   "cell_type": "code",
   "execution_count": 1,
   "id": "952efdcc-cd6c-42d7-873f-fb1a17e49a48",
   "metadata": {
    "tags": []
   },
   "outputs": [
    {
     "name": "stdout",
     "output_type": "stream",
     "text": [
      "Requirement already satisfied: pandas in /Library/Frameworks/Python.framework/Versions/3.10/lib/python3.10/site-packages (1.5.2)\n",
      "Requirement already satisfied: python-dateutil>=2.8.1 in /Library/Frameworks/Python.framework/Versions/3.10/lib/python3.10/site-packages (from pandas) (2.8.2)\n",
      "Requirement already satisfied: numpy>=1.21.0 in /Library/Frameworks/Python.framework/Versions/3.10/lib/python3.10/site-packages (from pandas) (1.23.5)\n",
      "Requirement already satisfied: pytz>=2020.1 in /Library/Frameworks/Python.framework/Versions/3.10/lib/python3.10/site-packages (from pandas) (2022.6)\n",
      "Requirement already satisfied: six>=1.5 in /Library/Frameworks/Python.framework/Versions/3.10/lib/python3.10/site-packages (from python-dateutil>=2.8.1->pandas) (1.16.0)\n",
      "Note: you may need to restart the kernel to use updated packages.\n"
     ]
    }
   ],
   "source": [
    "pip install pandas"
   ]
  },
  {
   "cell_type": "code",
   "execution_count": 2,
   "id": "0cfe1087-62df-47ee-add3-a3222886772d",
   "metadata": {
    "tags": []
   },
   "outputs": [],
   "source": [
    "import pandas as pd"
   ]
  },
  {
   "cell_type": "code",
   "execution_count": 7,
   "id": "f540805f-8e95-481d-9bfd-a7ad5708fe05",
   "metadata": {
    "tags": []
   },
   "outputs": [
    {
     "name": "stdout",
     "output_type": "stream",
     "text": [
      "Collecting ydata-profiling\n",
      "  Using cached ydata_profiling-4.0.0-py2.py3-none-any.whl (344 kB)\n",
      "Requirement already satisfied: jinja2<3.2,>=2.11.1 in c:\\users\\lavip\\appdata\\local\\programs\\python\\python39\\lib\\site-packages (from ydata-profiling) (3.1.2)\n",
      "Collecting visions[type_image_path]==0.7.5\n",
      "  Using cached visions-0.7.5-py3-none-any.whl (102 kB)\n",
      "Requirement already satisfied: tqdm<4.65,>=4.48.2 in c:\\users\\lavip\\appdata\\local\\programs\\python\\python39\\lib\\site-packages (from ydata-profiling) (4.64.1)\n",
      "Collecting phik<0.13,>=0.11.1\n",
      "  Using cached phik-0.12.3-cp39-cp39-win_amd64.whl (663 kB)\n",
      "Collecting seaborn<0.13,>=0.10.1\n",
      "  Using cached seaborn-0.12.2-py3-none-any.whl (293 kB)\n",
      "Collecting scipy<1.10,>=1.4.1\n",
      "  Using cached scipy-1.9.3-cp39-cp39-win_amd64.whl (40.2 MB)\n",
      "Collecting matplotlib<3.7,>=3.2\n",
      "  Using cached matplotlib-3.6.3-cp39-cp39-win_amd64.whl (7.2 MB)\n",
      "Collecting statsmodels<0.14,>=0.13.2\n",
      "  Using cached statsmodels-0.13.5-cp39-cp39-win_amd64.whl (9.2 MB)\n",
      "Requirement already satisfied: htmlmin==0.1.12 in c:\\users\\lavip\\appdata\\local\\programs\\python\\python39\\lib\\site-packages (from ydata-profiling) (0.1.12)\n",
      "Requirement already satisfied: numpy<1.24,>=1.16.0 in c:\\users\\lavip\\appdata\\local\\programs\\python\\python39\\lib\\site-packages (from ydata-profiling) (1.23.5)\n",
      "Requirement already satisfied: pandas!=1.4.0,<1.6,>1.1 in c:\\users\\lavip\\appdata\\local\\programs\\python\\python39\\lib\\site-packages (from ydata-profiling) (1.5.3)\n",
      "Requirement already satisfied: requests<2.29,>=2.24.0 in c:\\users\\lavip\\appdata\\local\\programs\\python\\python39\\lib\\site-packages (from ydata-profiling) (2.28.2)\n",
      "Collecting pydantic<1.11,>=1.8.1\n",
      "  Using cached pydantic-1.10.5-cp39-cp39-win_amd64.whl (2.2 MB)\n",
      "Requirement already satisfied: PyYAML<6.1,>=5.0.0 in c:\\users\\lavip\\appdata\\local\\programs\\python\\python39\\lib\\site-packages (from ydata-profiling) (6.0)\n",
      "Collecting multimethod<1.10,>=1.4\n",
      "  Using cached multimethod-1.9.1-py3-none-any.whl (10 kB)\n",
      "Requirement already satisfied: typeguard<2.14,>=2.13.2 in c:\\users\\lavip\\appdata\\local\\programs\\python\\python39\\lib\\site-packages (from ydata-profiling) (2.13.3)\n",
      "Requirement already satisfied: attrs>=19.3.0 in c:\\users\\lavip\\appdata\\local\\programs\\python\\python39\\lib\\site-packages (from visions[type_image_path]==0.7.5->ydata-profiling) (22.2.0)\n",
      "Requirement already satisfied: tangled-up-in-unicode>=0.0.4 in c:\\users\\lavip\\appdata\\local\\programs\\python\\python39\\lib\\site-packages (from visions[type_image_path]==0.7.5->ydata-profiling) (0.2.0)\n",
      "Collecting networkx>=2.4\n",
      "  Using cached networkx-3.0-py3-none-any.whl (2.0 MB)\n",
      "Collecting imagehash\n",
      "  Using cached ImageHash-4.3.1-py2.py3-none-any.whl (296 kB)\n",
      "Requirement already satisfied: Pillow in c:\\users\\lavip\\appdata\\local\\programs\\python\\python39\\lib\\site-packages (from visions[type_image_path]==0.7.5->ydata-profiling) (9.4.0)\n",
      "Requirement already satisfied: MarkupSafe>=2.0 in c:\\users\\lavip\\appdata\\local\\programs\\python\\python39\\lib\\site-packages (from jinja2<3.2,>=2.11.1->ydata-profiling) (2.1.2)\n",
      "Collecting fonttools>=4.22.0\n",
      "  Using cached fonttools-4.38.0-py3-none-any.whl (965 kB)\n",
      "Collecting cycler>=0.10\n",
      "  Using cached cycler-0.11.0-py3-none-any.whl (6.4 kB)\n",
      "Collecting contourpy>=1.0.1\n",
      "  Using cached contourpy-1.0.7-cp39-cp39-win_amd64.whl (160 kB)\n",
      "Requirement already satisfied: packaging>=20.0 in c:\\users\\lavip\\appdata\\local\\programs\\python\\python39\\lib\\site-packages (from matplotlib<3.7,>=3.2->ydata-profiling) (23.0)\n",
      "Requirement already satisfied: python-dateutil>=2.7 in c:\\users\\lavip\\appdata\\local\\programs\\python\\python39\\lib\\site-packages (from matplotlib<3.7,>=3.2->ydata-profiling) (2.8.2)\n",
      "Collecting kiwisolver>=1.0.1\n",
      "  Using cached kiwisolver-1.4.4-cp39-cp39-win_amd64.whl (55 kB)\n",
      "Requirement already satisfied: pyparsing>=2.2.1 in c:\\users\\lavip\\appdata\\local\\programs\\python\\python39\\lib\\site-packages (from matplotlib<3.7,>=3.2->ydata-profiling) (3.0.9)\n",
      "Requirement already satisfied: pytz>=2020.1 in c:\\users\\lavip\\appdata\\local\\programs\\python\\python39\\lib\\site-packages (from pandas!=1.4.0,<1.6,>1.1->ydata-profiling) (2022.7.1)\n",
      "Collecting joblib>=0.14.1\n",
      "  Using cached joblib-1.2.0-py3-none-any.whl (297 kB)\n",
      "Requirement already satisfied: typing-extensions>=4.2.0 in c:\\users\\lavip\\appdata\\local\\programs\\python\\python39\\lib\\site-packages (from pydantic<1.11,>=1.8.1->ydata-profiling) (4.5.0)\n",
      "Requirement already satisfied: idna<4,>=2.5 in c:\\users\\lavip\\appdata\\local\\programs\\python\\python39\\lib\\site-packages (from requests<2.29,>=2.24.0->ydata-profiling) (3.3)\n",
      "Requirement already satisfied: charset-normalizer<4,>=2 in c:\\users\\lavip\\appdata\\local\\programs\\python\\python39\\lib\\site-packages (from requests<2.29,>=2.24.0->ydata-profiling) (2.0.11)\n",
      "Requirement already satisfied: certifi>=2017.4.17 in c:\\users\\lavip\\appdata\\local\\programs\\python\\python39\\lib\\site-packages (from requests<2.29,>=2.24.0->ydata-profiling) (2021.10.8)\n",
      "Requirement already satisfied: urllib3<1.27,>=1.21.1 in c:\\users\\lavip\\appdata\\local\\programs\\python\\python39\\lib\\site-packages (from requests<2.29,>=2.24.0->ydata-profiling) (1.26.8)\n",
      "Collecting patsy>=0.5.2\n",
      "  Using cached patsy-0.5.3-py2.py3-none-any.whl (233 kB)\n",
      "Requirement already satisfied: colorama in c:\\users\\lavip\\appdata\\local\\programs\\python\\python39\\lib\\site-packages (from tqdm<4.65,>=4.48.2->ydata-profiling) (0.4.6)\n",
      "Requirement already satisfied: six in c:\\users\\lavip\\appdata\\local\\programs\\python\\python39\\lib\\site-packages (from patsy>=0.5.2->statsmodels<0.14,>=0.13.2->ydata-profiling) (1.16.0)\n",
      "Collecting PyWavelets\n",
      "  Using cached PyWavelets-1.4.1-cp39-cp39-win_amd64.whl (4.2 MB)\n",
      "Installing collected packages: scipy, PyWavelets, pydantic, patsy, networkx, multimethod, kiwisolver, joblib, fonttools, cycler, contourpy, matplotlib, imagehash, visions, statsmodels, seaborn, phik, ydata-profiling\n",
      "Successfully installed PyWavelets-1.4.1 contourpy-1.0.7 cycler-0.11.0 fonttools-4.38.0 imagehash-4.3.1 joblib-1.2.0 kiwisolver-1.4.4 matplotlib-3.6.3 multimethod-1.9.1 networkx-3.0 patsy-0.5.3 phik-0.12.3 pydantic-1.10.5 scipy-1.9.3 seaborn-0.12.2 statsmodels-0.13.5 visions-0.7.5 ydata-profiling-4.0.0\n",
      "Note: you may need to restart the kernel to use updated packages.\n"
     ]
    }
   ],
   "source": [
    "pip install ydata-profiling"
   ]
  },
  {
   "cell_type": "code",
   "execution_count": null,
   "id": "04899787-4f3a-4c62-8a1d-574b79dfa7f3",
   "metadata": {
    "tags": []
   },
   "outputs": [],
   "source": [
    "import pandas_profiling"
   ]
  },
  {
   "cell_type": "markdown",
   "id": "3ff92039-6b9a-4145-9f5b-fc94429e7ad7",
   "metadata": {},
   "source": [
    "Read the file"
   ]
  },
  {
   "cell_type": "code",
   "execution_count": null,
   "id": "193e9f1d-eaf3-4dee-a7c3-652dd6c8d2ee",
   "metadata": {
    "tags": []
   },
   "outputs": [],
   "source": [
    "df = pd.read_csv('C:/Users/lavip/Downloads/Police_Incidents.csv', low_memory=False)"
   ]
  },
  {
   "cell_type": "markdown",
   "id": "78d13297-9882-4be2-b831-8919daa0728b",
   "metadata": {},
   "source": [
    "Perform Data profiling on the csv"
   ]
  },
  {
   "cell_type": "code",
   "execution_count": 14,
   "id": "bfd1966c-ba09-403d-b90b-1027c8e4054f",
   "metadata": {
    "tags": []
   },
   "outputs": [],
   "source": [
    "profile = df.profile_report(title='Pandas Profiling Report')"
   ]
  },
  {
   "cell_type": "raw",
   "id": "f5fde7af-bbaa-4cb1-960b-3655154a3efd",
   "metadata": {},
   "source": [
    "Save the report to HTML file"
   ]
  },
  {
   "cell_type": "code",
   "execution_count": 16,
   "id": "e4b0547a-4dc1-4432-87a5-a556d5019ecb",
   "metadata": {
    "tags": []
   },
   "outputs": [
    {
     "name": "stderr",
     "output_type": "stream",
     "text": [
      "Export report to file: 100%|█████████████████████████████████████████████████████████████| 1/1 [00:00<00:00,  7.65it/s]\n"
     ]
    }
   ],
   "source": [
    "profile.to_file(output_file=\"pandas_profiling1.html\")"
   ]
  },
  {
   "cell_type": "code",
   "execution_count": 17,
   "id": "e98cd372-a4e2-478c-81ba-a65380a3bbc3",
   "metadata": {
    "tags": []
   },
   "outputs": [
    {
     "name": "stderr",
     "output_type": "stream",
     "text": [
      "Render JSON: 100%|██████████████████████████████████████████████████████████████████████| 1/1 [01:47<00:00, 107.10s/it]\n",
      "Export report to file: 100%|█████████████████████████████████████████████████████████████| 1/1 [00:03<00:00,  3.92s/it]\n"
     ]
    }
   ],
   "source": [
    "profile.to_file(output_file=\"pandas_profiling2.json\")"
   ]
  },
  {
   "cell_type": "code",
   "execution_count": null,
   "id": "a30659dc-55a3-49ca-a66a-17df4709114f",
   "metadata": {},
   "outputs": [],
   "source": []
  }
 ],
 "metadata": {
  "kernelspec": {
   "display_name": "Python 3 (ipykernel)",
   "language": "python",
   "name": "python3"
  },
  "language_info": {
   "codemirror_mode": {
    "name": "ipython",
    "version": 3
   },
   "file_extension": ".py",
   "mimetype": "text/x-python",
   "name": "python",
   "nbconvert_exporter": "python",
   "pygments_lexer": "ipython3",
   "version": "3.10.8"
  }
 },
 "nbformat": 4,
 "nbformat_minor": 5
}
